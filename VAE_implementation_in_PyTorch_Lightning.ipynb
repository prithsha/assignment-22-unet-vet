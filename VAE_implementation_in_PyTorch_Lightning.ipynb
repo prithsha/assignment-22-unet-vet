{
  "cells": [
    {
      "cell_type": "markdown",
      "metadata": {
        "id": "EYDKIsTtk3hJ"
      },
      "source": [
        "---\n",
        "# VAE Loss\n",
        "\n",
        "The loss we'll be implementing for the VAE is called the ELBO.\n",
        "\n",
        "$$\n",
        "\\color{red}{\\min \\mathbb{E}_{q}[ \\log q(z|x) - \\log p(z)]} - \\color{blue}{\\mathbb{E}_{q} \\log p(x|z)}\n",
        "$$\n",
        "\n",
        "The first term is the KL-divergence and the second term the reconstruction.\n",
        "\n",
        "For a full derivation and explanation see the next section"
      ]
    },
    {
      "cell_type": "markdown",
      "metadata": {
        "id": "XNmWnAHqmyeg"
      },
      "source": [
        "---\n",
        "# Math\n",
        "\n",
        "If you don't care about the derivation, please skip this part.\n",
        "\n",
        "There are 2 ways to derive the VAE loss.\n",
        "1. Using Jensen's inequality\n",
        "2. Using KL divergence.\n",
        "\n",
        "In this tutorial we'll use KL divergence."
      ]
    },
    {
      "cell_type": "code",
      "execution_count": 1,
      "metadata": {
        "colab": {
          "base_uri": "https://localhost:8080/"
        },
        "id": "LBp3UA3ooAWg",
        "outputId": "becf758d-227d-4c0c-98e5-99ca7a62c2ce"
      },
      "outputs": [
        {
          "name": "stdout",
          "output_type": "stream",
          "text": [
            "tensor(3.3256)\n"
          ]
        }
      ],
      "source": [
        "import torch\n",
        "\n",
        "q = torch.distributions.Normal(2, 4)\n",
        "\n",
        "z = q.rsample()\n",
        "print(z)"
      ]
    },
    {
      "cell_type": "markdown",
      "metadata": {
        "id": "PUJszG6X-IjC"
      },
      "source": [
        "## KL divergence intuition\n",
        "Here we show the intuition of minimizing the KL"
      ]
    },
    {
      "cell_type": "code",
      "execution_count": 2,
      "metadata": {
        "colab": {
          "base_uri": "https://localhost:8080/"
        },
        "id": "lIPuWEQI5CvH",
        "outputId": "4ad00eac-88de-4111-ec77-6331db3fac41"
      },
      "outputs": [
        {
          "name": "stdout",
          "output_type": "stream",
          "text": [
            "log prob pz:  tensor(-6.4488) prob: tensor(0.0016)\n",
            "log prob qzx:  tensor(-2.3601) prob: tensor(0.0944)\n"
          ]
        }
      ],
      "source": [
        "p = torch.distributions.Normal(0, 1)\n",
        "q = torch.distributions.Normal(2, 4)\n",
        "\n",
        "log_pz = p.log_prob(z)\n",
        "log_qzx = q.log_prob(z)\n",
        "\n",
        "print('log prob pz: ', log_pz, 'prob:', torch.exp(log_pz))\n",
        "print('log prob qzx: ', log_qzx, 'prob:', torch.exp(log_qzx))"
      ]
    },
    {
      "cell_type": "code",
      "execution_count": 3,
      "metadata": {
        "colab": {
          "base_uri": "https://localhost:8080/"
        },
        "id": "8OEM2xJ39PUZ",
        "outputId": "b0011525-77d2-4c20-b708-17086bac1913"
      },
      "outputs": [
        {
          "data": {
            "text/plain": [
              "tensor(4.0887)"
            ]
          },
          "execution_count": 3,
          "metadata": {},
          "output_type": "execute_result"
        }
      ],
      "source": [
        "kl_divergence = log_qzx - log_pz\n",
        "kl_divergence"
      ]
    },
    {
      "cell_type": "markdown",
      "metadata": {
        "id": "q_N9da8V-Qom"
      },
      "source": [
        "now, if we manually move q closer to p, we see that this distrance has shrunk."
      ]
    },
    {
      "cell_type": "code",
      "execution_count": 4,
      "metadata": {
        "colab": {
          "base_uri": "https://localhost:8080/"
        },
        "id": "q59dzIZq-eSG",
        "outputId": "da836119-546a-443e-93b3-7ea65e74138f"
      },
      "outputs": [
        {
          "name": "stdout",
          "output_type": "stream",
          "text": [
            "log prob qzx:  tensor(-2.2882) prob: tensor(0.1015)\n"
          ]
        }
      ],
      "source": [
        "# old q = torch.distributions.Normal(2, 4)\n",
        "q = torch.distributions.Normal(1, 2)\n",
        "\n",
        "log_qzx = q.log_prob(z)\n",
        "print('log prob qzx: ', log_qzx, 'prob:', torch.exp(log_qzx))"
      ]
    },
    {
      "cell_type": "markdown",
      "metadata": {
        "id": "7kJdo6PT-mWE"
      },
      "source": [
        "new kl"
      ]
    },
    {
      "cell_type": "code",
      "execution_count": 5,
      "metadata": {
        "colab": {
          "base_uri": "https://localhost:8080/"
        },
        "id": "G2Sw9t_F-ovn",
        "outputId": "22a43e50-a3ce-4264-d217-95b305a2fb3b"
      },
      "outputs": [
        {
          "data": {
            "text/plain": [
              "tensor(4.1607)"
            ]
          },
          "execution_count": 5,
          "metadata": {},
          "output_type": "execute_result"
        }
      ],
      "source": [
        "new_kl_divergence = log_qzx - log_pz\n",
        "new_kl_divergence"
      ]
    },
    {
      "cell_type": "markdown",
      "metadata": {
        "id": "6kCuRWlIx39v"
      },
      "source": [
        "---\n",
        "## Implementation walk-through\n",
        "So, with our formula defined, let's start our implementation.\n",
        "\n",
        "\n",
        "If you skipped the math and elbo derivation, remember we are implementing this loss (the ELBO)\n",
        "\n",
        "$$\n",
        "\\color{red}{\\min \\mathbb{E}_{q}[ \\log q(z|x) - \\log p(z)]} - \\color{blue}{\\mathbb{E}_{q} \\log p(x|z)}\n",
        "$$"
      ]
    },
    {
      "cell_type": "code",
      "execution_count": null,
      "metadata": {
        "id": "Ue4hW0MtyAIm"
      },
      "outputs": [],
      "source": [
        "%%capture\n",
        "! pip install pytorch-lightning\n",
        "! pip install pytorch-lightning-bolts==0.2.5rc1"
      ]
    },
    {
      "cell_type": "markdown",
      "metadata": {
        "id": "qCH1jxMCyVgP"
      },
      "source": [
        "#### First 4 elements\n",
        "The main 4 elements of a VAE are:\n",
        "- encoder\n",
        "- decoder\n",
        "- mu\n",
        "- sigma\n",
        "\n",
        "mu, sigma are the parameters for the distributions in our formula.\n",
        "\n",
        "Note: in our notation we say $q(z|x)$ where we assume $q$ to be a neural network. However, q is a neural network that DOES NOT GENERATE z. Instead it generates parameters FOR a distribution OVER z."
      ]
    },
    {
      "cell_type": "code",
      "execution_count": 6,
      "metadata": {
        "id": "BOYE51Hnytie"
      },
      "outputs": [
        {
          "name": "stderr",
          "output_type": "stream",
          "text": [
            "c:\\Users\\1430647\\Anaconda3\\envs\\cuda\\lib\\site-packages\\pl_bolts\\__init__.py:11: FutureWarning: In the future `np.object` will be defined as the corresponding NumPy scalar.\n",
            "  if not hasattr(numpy, tp_name):\n",
            "c:\\Users\\1430647\\Anaconda3\\envs\\cuda\\lib\\site-packages\\pl_bolts\\__init__.py:11: FutureWarning: In the future `np.bool` will be defined as the corresponding NumPy scalar.\n",
            "  if not hasattr(numpy, tp_name):\n",
            "c:\\Users\\1430647\\Anaconda3\\envs\\cuda\\lib\\site-packages\\pl_bolts\\models\\self_supervised\\amdim\\amdim_module.py:34: UnderReviewWarning: The feature generate_power_seq is currently marked under review. The compatibility with other Lightning projects is not guaranteed and API may change at any time. The API and functionality may change without warning in future releases. More details: https://lightning-bolts.readthedocs.io/en/latest/stability.html\n",
            "  \"lr_options\": generate_power_seq(LEARNING_RATE_CIFAR, 11),\n",
            "c:\\Users\\1430647\\Anaconda3\\envs\\cuda\\lib\\site-packages\\pl_bolts\\models\\self_supervised\\amdim\\amdim_module.py:92: UnderReviewWarning: The feature FeatureMapContrastiveTask is currently marked under review. The compatibility with other Lightning projects is not guaranteed and API may change at any time. The API and functionality may change without warning in future releases. More details: https://lightning-bolts.readthedocs.io/en/latest/stability.html\n",
            "  contrastive_task: Union[FeatureMapContrastiveTask] = FeatureMapContrastiveTask(\"01, 02, 11\"),\n",
            "c:\\Users\\1430647\\Anaconda3\\envs\\cuda\\lib\\site-packages\\pl_bolts\\losses\\self_supervised_learning.py:228: UnderReviewWarning: The feature AmdimNCELoss is currently marked under review. The compatibility with other Lightning projects is not guaranteed and API may change at any time. The API and functionality may change without warning in future releases. More details: https://lightning-bolts.readthedocs.io/en/latest/stability.html\n",
            "  self.nce_loss = AmdimNCELoss(tclip)\n"
          ]
        }
      ],
      "source": [
        "import pytorch_lightning as pl\n",
        "from torch import nn\n",
        "from torch.nn import functional as F\n",
        "from pl_bolts.models.autoencoders.components import (\n",
        "    resnet18_decoder,\n",
        "    resnet18_encoder,\n",
        ")\n",
        "\n",
        "class VAE(pl.LightningModule):\n",
        "    def __init__(self, enc_out_dim=512, latent_dim=256, input_height=32):\n",
        "        super().__init__()\n",
        "\n",
        "        self.save_hyperparameters()\n",
        "\n",
        "        # encoder, decoder\n",
        "        self.encoder = resnet18_encoder(False, False)\n",
        "        self.decoder = resnet18_decoder(\n",
        "            latent_dim=latent_dim,\n",
        "            input_height=input_height,\n",
        "            first_conv=False,\n",
        "            maxpool1=False\n",
        "        )\n",
        "\n",
        "        # distribution parameters\n",
        "        self.fc_mu = nn.Linear(enc_out_dim, latent_dim)\n",
        "        self.fc_var = nn.Linear(enc_out_dim, latent_dim)"
      ]
    },
    {
      "cell_type": "markdown",
      "metadata": {
        "id": "ZOnfCpUL0oJp"
      },
      "source": [
        "#### Sample z\n",
        "\n",
        "In Lightning we define the model interactions and the core algorithm in the training_step.\n",
        "\n",
        "For EDUCATIONAL purposes only, we are adding the training_step to the lightning module here instead of in the original class definition\n",
        "\n",
        "The VAE algorithm goes like this:\n",
        "\n",
        "1. Sample z"
      ]
    },
    {
      "cell_type": "code",
      "execution_count": 7,
      "metadata": {
        "id": "k2Y1o0JvJ4KR"
      },
      "outputs": [
        {
          "name": "stderr",
          "output_type": "stream",
          "text": [
            "C:\\Users\\1430647\\AppData\\Local\\Temp\\1\\ipykernel_40132\\1635575330.py:16: UnderReviewWarning: The feature resnet18_encoder is currently marked under review. The compatibility with other Lightning projects is not guaranteed and API may change at any time. The API and functionality may change without warning in future releases. More details: https://lightning-bolts.readthedocs.io/en/latest/stability.html\n",
            "  self.encoder = resnet18_encoder(False, False)\n",
            "c:\\Users\\1430647\\Anaconda3\\envs\\cuda\\lib\\site-packages\\pl_bolts\\models\\autoencoders\\components.py:334: UnderReviewWarning: The feature ResNetEncoder is currently marked under review. The compatibility with other Lightning projects is not guaranteed and API may change at any time. The API and functionality may change without warning in future releases. More details: https://lightning-bolts.readthedocs.io/en/latest/stability.html\n",
            "  return ResNetEncoder(EncoderBlock, [2, 2, 2, 2], first_conv, maxpool1)\n",
            "c:\\Users\\1430647\\Anaconda3\\envs\\cuda\\lib\\site-packages\\pl_bolts\\models\\autoencoders\\components.py:236: UnderReviewWarning: The feature EncoderBlock is currently marked under review. The compatibility with other Lightning projects is not guaranteed and API may change at any time. The API and functionality may change without warning in future releases. More details: https://lightning-bolts.readthedocs.io/en/latest/stability.html\n",
            "  layers.append(block(self.inplanes, planes, stride, downsample))\n",
            "c:\\Users\\1430647\\Anaconda3\\envs\\cuda\\lib\\site-packages\\pl_bolts\\models\\autoencoders\\components.py:56: UnderReviewWarning: The feature conv3x3 is currently marked under review. The compatibility with other Lightning projects is not guaranteed and API may change at any time. The API and functionality may change without warning in future releases. More details: https://lightning-bolts.readthedocs.io/en/latest/stability.html\n",
            "  self.conv1 = conv3x3(inplanes, planes, stride)\n",
            "c:\\Users\\1430647\\Anaconda3\\envs\\cuda\\lib\\site-packages\\pl_bolts\\models\\autoencoders\\components.py:231: UnderReviewWarning: The feature conv1x1 is currently marked under review. The compatibility with other Lightning projects is not guaranteed and API may change at any time. The API and functionality may change without warning in future releases. More details: https://lightning-bolts.readthedocs.io/en/latest/stability.html\n",
            "  conv1x1(self.inplanes, planes * block.expansion, stride),\n",
            "C:\\Users\\1430647\\AppData\\Local\\Temp\\1\\ipykernel_40132\\1635575330.py:17: UnderReviewWarning: The feature resnet18_decoder is currently marked under review. The compatibility with other Lightning projects is not guaranteed and API may change at any time. The API and functionality may change without warning in future releases. More details: https://lightning-bolts.readthedocs.io/en/latest/stability.html\n",
            "  self.decoder = resnet18_decoder(\n",
            "c:\\Users\\1430647\\Anaconda3\\envs\\cuda\\lib\\site-packages\\pl_bolts\\models\\autoencoders\\components.py:339: UnderReviewWarning: The feature ResNetDecoder is currently marked under review. The compatibility with other Lightning projects is not guaranteed and API may change at any time. The API and functionality may change without warning in future releases. More details: https://lightning-bolts.readthedocs.io/en/latest/stability.html\n",
            "  return ResNetDecoder(DecoderBlock, [2, 2, 2, 2], latent_dim, input_height, first_conv, maxpool1)\n",
            "c:\\Users\\1430647\\Anaconda3\\envs\\cuda\\lib\\site-packages\\pl_bolts\\models\\autoencoders\\components.py:301: UnderReviewWarning: The feature resize_conv1x1 is currently marked under review. The compatibility with other Lightning projects is not guaranteed and API may change at any time. The API and functionality may change without warning in future releases. More details: https://lightning-bolts.readthedocs.io/en/latest/stability.html\n",
            "  resize_conv1x1(self.inplanes, planes * block.expansion, scale),\n",
            "c:\\Users\\1430647\\Anaconda3\\envs\\cuda\\lib\\site-packages\\pl_bolts\\models\\autoencoders\\components.py:45: UnderReviewWarning: The feature Interpolate is currently marked under review. The compatibility with other Lightning projects is not guaranteed and API may change at any time. The API and functionality may change without warning in future releases. More details: https://lightning-bolts.readthedocs.io/en/latest/stability.html\n",
            "  return nn.Sequential(Interpolate(scale_factor=scale), conv1x1(in_planes, out_planes))\n",
            "c:\\Users\\1430647\\Anaconda3\\envs\\cuda\\lib\\site-packages\\pl_bolts\\models\\autoencoders\\components.py:306: UnderReviewWarning: The feature DecoderBlock is currently marked under review. The compatibility with other Lightning projects is not guaranteed and API may change at any time. The API and functionality may change without warning in future releases. More details: https://lightning-bolts.readthedocs.io/en/latest/stability.html\n",
            "  layers.append(block(self.inplanes, planes, scale, upsample))\n",
            "c:\\Users\\1430647\\Anaconda3\\envs\\cuda\\lib\\site-packages\\pl_bolts\\models\\autoencoders\\components.py:132: UnderReviewWarning: The feature resize_conv3x3 is currently marked under review. The compatibility with other Lightning projects is not guaranteed and API may change at any time. The API and functionality may change without warning in future releases. More details: https://lightning-bolts.readthedocs.io/en/latest/stability.html\n",
            "  self.conv1 = resize_conv3x3(inplanes, inplanes)\n"
          ]
        }
      ],
      "source": [
        "vae = VAE()"
      ]
    },
    {
      "cell_type": "code",
      "execution_count": 8,
      "metadata": {
        "colab": {
          "base_uri": "https://localhost:8080/"
        },
        "id": "M2DA3vyA1J63",
        "outputId": "a5b7285b-9587-4184-a539-057ab2343e9e"
      },
      "outputs": [
        {
          "name": "stdout",
          "output_type": "stream",
          "text": [
            "image shape: torch.Size([1, 3, 32, 32])\n",
            "mu: torch.Size([1, 256])\n",
            "log_var: torch.Size([1, 256])\n",
            "z shape: torch.Size([1, 256])\n"
          ]
        }
      ],
      "source": [
        "# DATA\n",
        "# we're pretending to have an image from cifar-10 (3 channels, 32x32 pixels)\n",
        "x = torch.rand(1, 3, 32, 32)\n",
        "\n",
        "print('image shape:', x.shape)\n",
        "\n",
        "# GET Q(z|x) PARAMETERS\n",
        "# encode x to get the mu and variance parameters\n",
        "x_encoded = vae.encoder(x)\n",
        "mu, log_var = vae.fc_mu(x_encoded), vae.fc_var(x_encoded)\n",
        "\n",
        "print('mu:', mu.shape)\n",
        "print('log_var:', log_var.shape)\n",
        "\n",
        "# SAMPLE Z from Q(Z|x)\n",
        "std = torch.exp(log_var / 2)\n",
        "q = torch.distributions.Normal(mu, std)\n",
        "z = q.rsample()\n",
        "\n",
        "print('z shape:', z.shape)"
      ]
    },
    {
      "cell_type": "code",
      "execution_count": 9,
      "metadata": {
        "id": "zXdEHb2BKoFi"
      },
      "outputs": [],
      "source": [
        "zero = torch.zeros_like(mu)\n",
        "one = torch.ones_like(std)\n",
        "p = torch.distributions.Normal(zero, one)"
      ]
    },
    {
      "cell_type": "markdown",
      "metadata": {
        "id": "279hJbHi4G5W"
      },
      "source": [
        "#### decoding\n",
        "\n",
        "The second part is reconstruction.\n",
        "\n",
        "The decoder is going to take as input $z$ and it will generate PARAMETERS for a distribution from which to sample a reconstruction.\n",
        "\n",
        "Note: Most tutorials use MNIST so the decoder generates BERNOULLI variables which can be used in a bernoulli distribution to sample a value for each pixel.\n",
        "\n",
        "That's right, the decoder generates distribution parameters FOR EACH pixel. And since most tutorials use MNIST the outputs of the decoder will LOOK like a digit because those parameters are in the range 0-1 (which happens to be the same for black and white images).\n"
      ]
    },
    {
      "cell_type": "markdown",
      "metadata": {
        "id": "5amgCaDC5PHu"
      },
      "source": [
        "But in our case, we'll actually use CIFAR-10 which are color images... so we need to do something more realistic:\n"
      ]
    },
    {
      "cell_type": "code",
      "execution_count": 10,
      "metadata": {
        "colab": {
          "base_uri": "https://localhost:8080/"
        },
        "id": "4MObpA0R5VPm",
        "outputId": "15cb1231-b562-4d8f-e2a2-2138fa0bffd5"
      },
      "outputs": [
        {
          "name": "stdout",
          "output_type": "stream",
          "text": [
            "torch.Size([1, 3, 32, 32])\n"
          ]
        }
      ],
      "source": [
        "x_hat = vae.decoder(z)\n",
        "print(x_hat.shape)"
      ]
    },
    {
      "cell_type": "markdown",
      "metadata": {
        "id": "riXmLJvg5vDa"
      },
      "source": [
        "#### reconstruction loss\n",
        "\n",
        "You'll likely see the reconstruction loss using MSE like this in most tutorials about autoencoders.\n",
        "\n",
        "However, MSE DOES not apply to Variational autoencoders"
      ]
    },
    {
      "cell_type": "code",
      "execution_count": 11,
      "metadata": {
        "colab": {
          "base_uri": "https://localhost:8080/"
        },
        "id": "vgigEWDs7Y-4",
        "outputId": "a1a0619b-beee-49f8-dffd-324c789081d4"
      },
      "outputs": [
        {
          "name": "stdout",
          "output_type": "stream",
          "text": [
            "wrong reconstruction loss tensor([5670.6865], grad_fn=<SumBackward1>)\n"
          ]
        }
      ],
      "source": [
        "recon_loss = F.mse_loss(x_hat, x, reduction='none')\n",
        "recon_loss = recon_loss.sum(-1).sum(-1).sum(-1)\n",
        "print('wrong reconstruction loss', recon_loss)"
      ]
    },
    {
      "cell_type": "markdown",
      "metadata": {
        "id": "Tzk-TjFbVWsn"
      },
      "source": [
        "Instead, the output of the decoder represents parameters for a distribution.\n",
        "\n",
        "When the images are MNIST, the parameters (decoder output) can be considered bernoullis and thus you can use the pixel values of MNIST (because they are ones and zeros) to calculate the cross entropy (which is the \"reconstruction loss\").\n",
        "\n",
        "But when dealing with color images, it is prefered to model each parameter out of the decoder as a gaussian."
      ]
    },
    {
      "cell_type": "code",
      "execution_count": 12,
      "metadata": {
        "colab": {
          "base_uri": "https://localhost:8080/"
        },
        "id": "I-k-xjjWV9s9",
        "outputId": "6b6ad199-c572-4626-fedc-9265c690bd7f"
      },
      "outputs": [
        {
          "name": "stdout",
          "output_type": "stream",
          "text": [
            "we have these many parameters for a distribution: torch.Size([1, 3, 32, 32])\n",
            "torch.Size([1, 3, 32, 32])\n",
            "torch.Size([1])\n",
            "reconstruction loss: -5658.32275390625\n"
          ]
        }
      ],
      "source": [
        "# get the PARAMETERS for P(x|z)\n",
        "x_hat = vae.decoder(z)\n",
        "print('we have these many parameters for a distribution:', x_hat.shape)\n",
        "\n",
        "# compute the probability of x under this n-dimensional distribution\n",
        "log_scale = nn.Parameter(torch.Tensor([0.0]))\n",
        "scale = torch.exp(log_scale)\n",
        "dist = torch.distributions.Normal(x_hat, scale)\n",
        "log_pxz = dist.log_prob(x)\n",
        "\n",
        "print(log_pxz.shape)\n",
        "\n",
        "# sum across channels, and all pixels (width, height)\n",
        "# this gives the log probability of THIS particular IMAGE\n",
        "log_pxz = log_pxz.sum(dim=(1, 2, 3))\n",
        "print(log_pxz.shape)\n",
        "print('reconstruction loss:', log_pxz.item())\n",
        "\n",
        "recon_loss = log_pxz"
      ]
    },
    {
      "cell_type": "markdown",
      "metadata": {
        "id": "Euc6MmJY_soH"
      },
      "source": [
        "#### kl divergence\n",
        "\n",
        "Next we'll define the second term of the loss which is the KL divergence.\n",
        "\n",
        "Now, we don't want to compute the KL divergence analytically, so we'll instead use the monte carlo estimate.\n",
        "\n",
        "$$\n",
        "= \\mathbb{E}_{q}  \\log \\frac{q(z|x)}{p(z)}\\\\\n",
        "= \\mathbb{E}_{q} [\\log q(z|x) - \\log{p(z)}]\n",
        "$$\n",
        "\n",
        "To code this, we'll need to be able to get the probability of z under each of $p(z)$ and $q(z|x)$.\n",
        "\n",
        "This means we don't need to know what the distribution is, but only sample from it.\n"
      ]
    },
    {
      "cell_type": "code",
      "execution_count": 13,
      "metadata": {
        "colab": {
          "base_uri": "https://localhost:8080/"
        },
        "id": "rg3jfRGcA0xQ",
        "outputId": "dce87df5-c8b0-4eab-f3d6-2895613d20f2"
      },
      "outputs": [
        {
          "name": "stdout",
          "output_type": "stream",
          "text": [
            "torch.Size([1, 256]) torch.Size([1, 256])\n",
            "tensor([52.5085], grad_fn=<SumBackward1>)\n"
          ]
        }
      ],
      "source": [
        "# 1. define the first two probabilities (in this case Normal for both)\n",
        "p = torch.distributions.Normal(torch.zeros_like(mu), torch.ones_like(std))\n",
        "q = torch.distributions.Normal(mu, std)\n",
        "\n",
        "# 2. get the probabilities from the equation\n",
        "log_qzx = q.log_prob(z)\n",
        "log_pz = p.log_prob(z)\n",
        "\n",
        "print(log_qzx.shape, log_pz.shape)\n",
        "\n",
        "# 3. calculate the KL\n",
        "kl = (log_qzx - log_pz)\n",
        "\n",
        "# 4. this bit is a bit tricky. Since these are log probabilities\n",
        "# we can sum all the individual dimensions to give us the multi-dimensional\n",
        "# probability\n",
        "kl = kl.sum(-1)\n",
        "print(kl)"
      ]
    },
    {
      "cell_type": "markdown",
      "metadata": {
        "id": "W2IRTuZ-CECD"
      },
      "source": [
        "#### ELBO\n",
        "\n",
        "So, the full elbo is:"
      ]
    },
    {
      "cell_type": "code",
      "execution_count": 14,
      "metadata": {
        "colab": {
          "base_uri": "https://localhost:8080/"
        },
        "id": "IywdHb8HCGmW",
        "outputId": "d6495fb7-cb04-4d64-b26e-620a30f21c9b"
      },
      "outputs": [
        {
          "name": "stdout",
          "output_type": "stream",
          "text": [
            "kl: tensor(52.5085, grad_fn=<MeanBackward0>)\n",
            "log likelihood (reconstruction loss): tensor(-5658.3228, grad_fn=<MeanBackward0>)\n",
            "elbo:  tensor(5710.8311, grad_fn=<MeanBackward0>)\n"
          ]
        }
      ],
      "source": [
        "elbo = (kl - recon_loss)\n",
        "print('kl:', kl.mean())\n",
        "print('log likelihood (reconstruction loss):', recon_loss.mean())\n",
        "print('elbo: ', elbo.mean())"
      ]
    },
    {
      "cell_type": "markdown",
      "metadata": {
        "id": "ZJfbA6qmFyDo"
      },
      "source": [
        "# Full Implementation\n",
        "So, the full implementation is as follows."
      ]
    },
    {
      "cell_type": "code",
      "execution_count": 15,
      "metadata": {
        "id": "a3_ABiO0F3jM"
      },
      "outputs": [],
      "source": [
        "import pytorch_lightning as pl\n",
        "from torch import nn\n",
        "from torch.nn import functional as F\n",
        "from pl_bolts.models.autoencoders.components import (\n",
        "    resnet18_decoder,\n",
        "    resnet18_encoder,\n",
        ")\n",
        "\n",
        "class VAE(pl.LightningModule):\n",
        "    def __init__(self, enc_out_dim=512, latent_dim=256, input_height=32):\n",
        "        super().__init__()\n",
        "\n",
        "        self.save_hyperparameters()\n",
        "\n",
        "        # encoder, decoder\n",
        "        self.encoder = resnet18_encoder(False, False)\n",
        "        self.decoder = resnet18_decoder(\n",
        "            latent_dim=latent_dim,\n",
        "            input_height=input_height,\n",
        "            first_conv=False,\n",
        "            maxpool1=False\n",
        "        )\n",
        "\n",
        "        # distribution parameters\n",
        "        self.fc_mu = nn.Linear(enc_out_dim, latent_dim)\n",
        "        self.fc_var = nn.Linear(enc_out_dim, latent_dim)\n",
        "\n",
        "        # for the gaussian likelihood\n",
        "        self.log_scale = nn.Parameter(torch.Tensor([0.0]))\n",
        "\n",
        "    def configure_optimizers(self):\n",
        "        return torch.optim.Adam(self.parameters(), lr=1e-4)\n",
        "\n",
        "    def gaussian_likelihood(self, mean, logscale, sample):\n",
        "        scale = torch.exp(logscale)\n",
        "        dist = torch.distributions.Normal(mean, scale)\n",
        "        log_pxz = dist.log_prob(sample)\n",
        "        return log_pxz.sum(dim=(1, 2, 3))\n",
        "\n",
        "    def kl_divergence(self, z, mu, std):\n",
        "        # --------------------------\n",
        "        # Monte carlo KL divergence\n",
        "        # --------------------------\n",
        "        # 1. define the first two probabilities (in this case Normal for both)\n",
        "        p = torch.distributions.Normal(torch.zeros_like(mu), torch.ones_like(std))\n",
        "        q = torch.distributions.Normal(mu, std)\n",
        "\n",
        "        # 2. get the probabilities from the equation\n",
        "        log_qzx = q.log_prob(z)\n",
        "        log_pz = p.log_prob(z)\n",
        "\n",
        "        # kl\n",
        "        kl = (log_qzx - log_pz)\n",
        "        kl = kl.sum(-1)\n",
        "        return kl\n",
        "\n",
        "    def training_step(self, batch, batch_idx):\n",
        "        x, _ = batch\n",
        "\n",
        "        # encode x to get the mu and variance parameters\n",
        "        x_encoded = self.encoder(x)\n",
        "        mu, log_var = self.fc_mu(x_encoded), self.fc_var(x_encoded)\n",
        "\n",
        "        # sample z from q\n",
        "        std = torch.exp(log_var / 2)\n",
        "        q = torch.distributions.Normal(mu, std)\n",
        "        z = q.rsample()\n",
        "\n",
        "        # decoded\n",
        "        x_hat = vae.decoder(z)\n",
        "\n",
        "        # reconstruction loss\n",
        "        recon_loss = self.gaussian_likelihood(x_hat, self.log_scale, x)\n",
        "\n",
        "        # kl\n",
        "        kl = self.kl_divergence(z, mu, std)\n",
        "\n",
        "        # elbo\n",
        "        elbo = (kl - recon_loss)\n",
        "        elbo = elbo.mean()\n",
        "\n",
        "        self.log_dict({\n",
        "            'elbo': elbo,\n",
        "            'kl': kl.mean(),\n",
        "            'recon_loss': recon_loss.mean(),\n",
        "            'reconstruction': recon_loss.mean(),\n",
        "            'kl': kl.mean(),\n",
        "        })\n",
        "\n",
        "        return elbo"
      ]
    },
    {
      "cell_type": "markdown",
      "metadata": {
        "id": "dfNn23pPG6XU"
      },
      "source": [
        "Let's use CIFAR-10 already split up and transformed.\n",
        "\n",
        "The Lightning Datamodule has 3 dataloaders, train, val, test"
      ]
    },
    {
      "cell_type": "code",
      "execution_count": 16,
      "metadata": {
        "id": "Eg5bOMsDHGUj"
      },
      "outputs": [],
      "source": [
        "from pl_bolts.datamodules import CIFAR10DataModule\n",
        "\n",
        "datamodule = CIFAR10DataModule('.')"
      ]
    },
    {
      "cell_type": "markdown",
      "metadata": {
        "id": "6wTKaSheHNYS"
      },
      "source": [
        "Now we train!"
      ]
    },
    {
      "cell_type": "code",
      "execution_count": 20,
      "metadata": {
        "colab": {
          "base_uri": "https://localhost:8080/",
          "height": 833,
          "referenced_widgets": [
            "f439eb4b51b84ee785cb6e9b222a4f46",
            "77e450b233cc41c3a0d7905f9747cec4",
            "cd22258e7f82495b84af60105b6ec1e7",
            "bfb3c11cfb8a4bff9b7fab7e2fc7a8e6",
            "a33883de0701451dbb5df3eb050b4829",
            "a9afd1eef79143ec966809ff046c7d8d",
            "b02acbf1719c4c94b0026935becb292f",
            "ef417701511b496fa52a9b3595872402",
            "2564ba9c186a4a0c97afed82e6a6de9e",
            "392d704a4ff24ccf995b8ee943f048c0",
            "cb2944a63e914b86a35bc47f1ff9f4d5",
            "689d35abe0a74782b04a442738ea4754",
            "b7d87e62572b4302b42d05fbfd039c76",
            "d99a8cd7c5694a95aba1880b00d5f111",
            "4b14e76b2113485a879481e113063bfd",
            "d73acc5f688e403599cc59deef6641fa"
          ]
        },
        "id": "MvBo844ZHQhF",
        "outputId": "cfd3fc80-f9b7-454e-cd0e-7c28ddabc2f7"
      },
      "outputs": [
        {
          "name": "stderr",
          "output_type": "stream",
          "text": [
            "Global seed set to 1234\n",
            "C:\\Users\\1430647\\AppData\\Local\\Temp\\1\\ipykernel_40132\\2613399420.py:16: UnderReviewWarning: The feature resnet18_encoder is currently marked under review. The compatibility with other Lightning projects is not guaranteed and API may change at any time. The API and functionality may change without warning in future releases. More details: https://lightning-bolts.readthedocs.io/en/latest/stability.html\n",
            "  self.encoder = resnet18_encoder(False, False)\n",
            "c:\\Users\\1430647\\Anaconda3\\envs\\cuda\\lib\\site-packages\\pl_bolts\\models\\autoencoders\\components.py:334: UnderReviewWarning: The feature ResNetEncoder is currently marked under review. The compatibility with other Lightning projects is not guaranteed and API may change at any time. The API and functionality may change without warning in future releases. More details: https://lightning-bolts.readthedocs.io/en/latest/stability.html\n",
            "  return ResNetEncoder(EncoderBlock, [2, 2, 2, 2], first_conv, maxpool1)\n",
            "c:\\Users\\1430647\\Anaconda3\\envs\\cuda\\lib\\site-packages\\pl_bolts\\models\\autoencoders\\components.py:236: UnderReviewWarning: The feature EncoderBlock is currently marked under review. The compatibility with other Lightning projects is not guaranteed and API may change at any time. The API and functionality may change without warning in future releases. More details: https://lightning-bolts.readthedocs.io/en/latest/stability.html\n",
            "  layers.append(block(self.inplanes, planes, stride, downsample))\n",
            "c:\\Users\\1430647\\Anaconda3\\envs\\cuda\\lib\\site-packages\\pl_bolts\\models\\autoencoders\\components.py:56: UnderReviewWarning: The feature conv3x3 is currently marked under review. The compatibility with other Lightning projects is not guaranteed and API may change at any time. The API and functionality may change without warning in future releases. More details: https://lightning-bolts.readthedocs.io/en/latest/stability.html\n",
            "  self.conv1 = conv3x3(inplanes, planes, stride)\n",
            "c:\\Users\\1430647\\Anaconda3\\envs\\cuda\\lib\\site-packages\\pl_bolts\\models\\autoencoders\\components.py:231: UnderReviewWarning: The feature conv1x1 is currently marked under review. The compatibility with other Lightning projects is not guaranteed and API may change at any time. The API and functionality may change without warning in future releases. More details: https://lightning-bolts.readthedocs.io/en/latest/stability.html\n",
            "  conv1x1(self.inplanes, planes * block.expansion, stride),\n",
            "C:\\Users\\1430647\\AppData\\Local\\Temp\\1\\ipykernel_40132\\2613399420.py:17: UnderReviewWarning: The feature resnet18_decoder is currently marked under review. The compatibility with other Lightning projects is not guaranteed and API may change at any time. The API and functionality may change without warning in future releases. More details: https://lightning-bolts.readthedocs.io/en/latest/stability.html\n",
            "  self.decoder = resnet18_decoder(\n",
            "c:\\Users\\1430647\\Anaconda3\\envs\\cuda\\lib\\site-packages\\pl_bolts\\models\\autoencoders\\components.py:339: UnderReviewWarning: The feature ResNetDecoder is currently marked under review. The compatibility with other Lightning projects is not guaranteed and API may change at any time. The API and functionality may change without warning in future releases. More details: https://lightning-bolts.readthedocs.io/en/latest/stability.html\n",
            "  return ResNetDecoder(DecoderBlock, [2, 2, 2, 2], latent_dim, input_height, first_conv, maxpool1)\n",
            "c:\\Users\\1430647\\Anaconda3\\envs\\cuda\\lib\\site-packages\\pl_bolts\\models\\autoencoders\\components.py:301: UnderReviewWarning: The feature resize_conv1x1 is currently marked under review. The compatibility with other Lightning projects is not guaranteed and API may change at any time. The API and functionality may change without warning in future releases. More details: https://lightning-bolts.readthedocs.io/en/latest/stability.html\n",
            "  resize_conv1x1(self.inplanes, planes * block.expansion, scale),\n",
            "c:\\Users\\1430647\\Anaconda3\\envs\\cuda\\lib\\site-packages\\pl_bolts\\models\\autoencoders\\components.py:45: UnderReviewWarning: The feature Interpolate is currently marked under review. The compatibility with other Lightning projects is not guaranteed and API may change at any time. The API and functionality may change without warning in future releases. More details: https://lightning-bolts.readthedocs.io/en/latest/stability.html\n",
            "  return nn.Sequential(Interpolate(scale_factor=scale), conv1x1(in_planes, out_planes))\n",
            "c:\\Users\\1430647\\Anaconda3\\envs\\cuda\\lib\\site-packages\\pl_bolts\\models\\autoencoders\\components.py:306: UnderReviewWarning: The feature DecoderBlock is currently marked under review. The compatibility with other Lightning projects is not guaranteed and API may change at any time. The API and functionality may change without warning in future releases. More details: https://lightning-bolts.readthedocs.io/en/latest/stability.html\n",
            "  layers.append(block(self.inplanes, planes, scale, upsample))\n",
            "c:\\Users\\1430647\\Anaconda3\\envs\\cuda\\lib\\site-packages\\pl_bolts\\models\\autoencoders\\components.py:132: UnderReviewWarning: The feature resize_conv3x3 is currently marked under review. The compatibility with other Lightning projects is not guaranteed and API may change at any time. The API and functionality may change without warning in future releases. More details: https://lightning-bolts.readthedocs.io/en/latest/stability.html\n",
            "  self.conv1 = resize_conv3x3(inplanes, inplanes)\n",
            "c:\\Users\\1430647\\Anaconda3\\envs\\cuda\\lib\\site-packages\\pytorch_lightning\\trainer\\connectors\\accelerator_connector.py:478: LightningDeprecationWarning: Setting `Trainer(gpus=1)` is deprecated in v1.7 and will be removed in v2.0. Please use `Trainer(accelerator='gpu', devices=1)` instead.\n",
            "  rank_zero_deprecation(\n",
            "GPU available: True (cuda), used: True\n",
            "TPU available: False, using: 0 TPU cores\n",
            "IPU available: False, using: 0 IPUs\n",
            "HPU available: False, using: 0 HPUs\n",
            "c:\\Users\\1430647\\Anaconda3\\envs\\cuda\\lib\\site-packages\\pytorch_lightning\\trainer\\configuration_validator.py:106: UserWarning: You passed in a `val_dataloader` but have no `validation_step`. Skipping val loop.\n",
            "  rank_zero_warn(\"You passed in a `val_dataloader` but have no `validation_step`. Skipping val loop.\")\n"
          ]
        },
        {
          "name": "stdout",
          "output_type": "stream",
          "text": [
            "Files already downloaded and verified\n",
            "Files already downloaded and verified\n"
          ]
        },
        {
          "name": "stderr",
          "output_type": "stream",
          "text": [
            "LOCAL_RANK: 0 - CUDA_VISIBLE_DEVICES: [0]\n",
            "\n",
            "  | Name    | Type          | Params\n",
            "------------------------------------------\n",
            "0 | encoder | ResNetEncoder | 11.2 M\n",
            "1 | decoder | ResNetDecoder | 8.6 M \n",
            "2 | fc_mu   | Linear        | 131 K \n",
            "3 | fc_var  | Linear        | 131 K \n",
            "------------------------------------------\n",
            "20.1 M    Trainable params\n",
            "0         Non-trainable params\n",
            "20.1 M    Total params\n",
            "80.228    Total estimated model params size (MB)\n"
          ]
        },
        {
          "data": {
            "application/vnd.jupyter.widget-view+json": {
              "model_id": "a5f784d0f9ab4b3abdc1a5f77a885220",
              "version_major": 2,
              "version_minor": 0
            },
            "text/plain": [
              "Training: 0it [00:00, ?it/s]"
            ]
          },
          "metadata": {},
          "output_type": "display_data"
        },
        {
          "name": "stderr",
          "output_type": "stream",
          "text": [
            "`Trainer.fit` stopped: `max_epochs=2` reached.\n"
          ]
        }
      ],
      "source": [
        "pl.seed_everything(1234)\n",
        "\n",
        "vae = VAE()\n",
        "trainer = pl.Trainer(gpus=1, max_epochs=20)\n",
        "trainer.fit(vae, datamodule)"
      ]
    },
    {
      "cell_type": "markdown",
      "metadata": {
        "id": "spIp7mogliDI"
      },
      "source": [
        "## Plot an image"
      ]
    },
    {
      "cell_type": "code",
      "execution_count": 21,
      "metadata": {
        "colab": {
          "base_uri": "https://localhost:8080/",
          "height": 331
        },
        "id": "pj91rMEcXxco",
        "outputId": "a842e981-1077-4187-a599-b8c3b5f93f87"
      },
      "outputs": [
        {
          "data": {
            "image/png": "[encoded data removed]",
            "text/plain": [
              "<Figure size 2400x900 with 1 Axes>"
            ]
          },
          "metadata": {},
          "output_type": "display_data"
        }
      ],
      "source": [
        "from matplotlib.pyplot import imshow, figure\n",
        "import numpy as np\n",
        "from torchvision.utils import make_grid\n",
        "from pl_bolts.transforms.dataset_normalizations import cifar10_normalization\n",
        "figure(figsize=(8, 3), dpi=300)\n",
        "\n",
        "# Z COMES FROM NORMAL(0, 1)\n",
        "num_preds = 16\n",
        "p = torch.distributions.Normal(torch.zeros_like(mu), torch.ones_like(std))\n",
        "z = p.rsample((num_preds,))\n",
        "\n",
        "# SAMPLE IMAGES\n",
        "with torch.no_grad():\n",
        "    pred = vae.decoder(z.to(vae.device)).cpu()\n",
        "\n",
        "# UNDO DATA NORMALIZATION\n",
        "normalize = cifar10_normalization()\n",
        "mean, std = np.array(normalize.mean), np.array(normalize.std)\n",
        "img = make_grid(pred).permute(1, 2, 0).numpy() * std + mean\n",
        "\n",
        "# PLOT IMAGES\n",
        "imshow(img);"
      ]
    }
  ],
  "metadata": {
    "accelerator": "GPU",
    "colab": {
      "provenance": [],
      "toc_visible": true
    },
    "kernelspec": {
      "display_name": "Python 3",
      "name": "python3"
    },
    "language_info": {
      "codemirror_mode": {
        "name": "ipython",
        "version": 3
      },
      "file_extension": ".py",
      "mimetype": "text/x-python",
      "name": "python",
      "nbconvert_exporter": "python",
      "pygments_lexer": "ipython3",
      "version": "3.10.13"
    },
    "widgets": {
      "application/vnd.jupyter.widget-state+json": {
        "2564ba9c186a4a0c97afed82e6a6de9e": {
          "model_module": "@jupyter-widgets/controls",
          "model_module_version": "1.5.0",
          "model_name": "HBoxModel",
          "state": {
            "_dom_classes": [],
            "_model_module": "@jupyter-widgets/controls",
            "_model_module_version": "1.5.0",
            "_model_name": "HBoxModel",
            "_view_count": null,
            "_view_module": "@jupyter-widgets/controls",
            "_view_module_version": "1.5.0",
            "_view_name": "HBoxView",
            "box_style": "",
            "children": [
              "IPY_MODEL_cb2944a63e914b86a35bc47f1ff9f4d5",
              "IPY_MODEL_689d35abe0a74782b04a442738ea4754"
            ],
            "layout": "IPY_MODEL_392d704a4ff24ccf995b8ee943f048c0"
          }
        },
        "392d704a4ff24ccf995b8ee943f048c0": {
          "model_module": "@jupyter-widgets/base",
          "model_module_version": "1.2.0",
          "model_name": "LayoutModel",
          "state": {
            "_model_module": "@jupyter-widgets/base",
            "_model_module_version": "1.2.0",
            "_model_name": "LayoutModel",
            "_view_count": null,
            "_view_module": "@jupyter-widgets/base",
            "_view_module_version": "1.2.0",
            "_view_name": "LayoutView",
            "align_content": null,
            "align_items": null,
            "align_self": null,
            "border": null,
            "bottom": null,
            "display": "inline-flex",
            "flex": null,
            "flex_flow": "row wrap",
            "grid_area": null,
            "grid_auto_columns": null,
            "grid_auto_flow": null,
            "grid_auto_rows": null,
            "grid_column": null,
            "grid_gap": null,
            "grid_row": null,
            "grid_template_areas": null,
            "grid_template_columns": null,
            "grid_template_rows": null,
            "height": null,
            "justify_content": null,
            "justify_items": null,
            "left": null,
            "margin": null,
            "max_height": null,
            "max_width": null,
            "min_height": null,
            "min_width": null,
            "object_fit": null,
            "object_position": null,
            "order": null,
            "overflow": null,
            "overflow_x": null,
            "overflow_y": null,
            "padding": null,
            "right": null,
            "top": null,
            "visibility": null,
            "width": "100%"
          }
        },
        "4b14e76b2113485a879481e113063bfd": {
          "model_module": "@jupyter-widgets/controls",
          "model_module_version": "1.5.0",
          "model_name": "DescriptionStyleModel",
          "state": {
            "_model_module": "@jupyter-widgets/controls",
            "_model_module_version": "1.5.0",
            "_model_name": "DescriptionStyleModel",
            "_view_count": null,
            "_view_module": "@jupyter-widgets/base",
            "_view_module_version": "1.2.0",
            "_view_name": "StyleView",
            "description_width": ""
          }
        },
        "689d35abe0a74782b04a442738ea4754": {
          "model_module": "@jupyter-widgets/controls",
          "model_module_version": "1.5.0",
          "model_name": "HTMLModel",
          "state": {
            "_dom_classes": [],
            "_model_module": "@jupyter-widgets/controls",
            "_model_module_version": "1.5.0",
            "_model_name": "HTMLModel",
            "_view_count": null,
            "_view_module": "@jupyter-widgets/controls",
            "_view_module_version": "1.5.0",
            "_view_name": "HTMLView",
            "description": "",
            "description_tooltip": null,
            "layout": "IPY_MODEL_d73acc5f688e403599cc59deef6641fa",
            "placeholder": "​",
            "style": "IPY_MODEL_4b14e76b2113485a879481e113063bfd",
            "value": " 540/1406 [00:58&lt;01:33,  9.22it/s, loss=1044.294, v_num=0]"
          }
        },
        "77e450b233cc41c3a0d7905f9747cec4": {
          "model_module": "@jupyter-widgets/base",
          "model_module_version": "1.2.0",
          "model_name": "LayoutModel",
          "state": {
            "_model_module": "@jupyter-widgets/base",
            "_model_module_version": "1.2.0",
            "_model_name": "LayoutModel",
            "_view_count": null,
            "_view_module": "@jupyter-widgets/base",
            "_view_module_version": "1.2.0",
            "_view_name": "LayoutView",
            "align_content": null,
            "align_items": null,
            "align_self": null,
            "border": null,
            "bottom": null,
            "display": null,
            "flex": null,
            "flex_flow": null,
            "grid_area": null,
            "grid_auto_columns": null,
            "grid_auto_flow": null,
            "grid_auto_rows": null,
            "grid_column": null,
            "grid_gap": null,
            "grid_row": null,
            "grid_template_areas": null,
            "grid_template_columns": null,
            "grid_template_rows": null,
            "height": null,
            "justify_content": null,
            "justify_items": null,
            "left": null,
            "margin": null,
            "max_height": null,
            "max_width": null,
            "min_height": null,
            "min_width": null,
            "object_fit": null,
            "object_position": null,
            "order": null,
            "overflow": null,
            "overflow_x": null,
            "overflow_y": null,
            "padding": null,
            "right": null,
            "top": null,
            "visibility": null,
            "width": null
          }
        },
        "a33883de0701451dbb5df3eb050b4829": {
          "model_module": "@jupyter-widgets/controls",
          "model_module_version": "1.5.0",
          "model_name": "ProgressStyleModel",
          "state": {
            "_model_module": "@jupyter-widgets/controls",
            "_model_module_version": "1.5.0",
            "_model_name": "ProgressStyleModel",
            "_view_count": null,
            "_view_module": "@jupyter-widgets/base",
            "_view_module_version": "1.2.0",
            "_view_name": "StyleView",
            "bar_color": null,
            "description_width": "initial"
          }
        },
        "a9afd1eef79143ec966809ff046c7d8d": {
          "model_module": "@jupyter-widgets/base",
          "model_module_version": "1.2.0",
          "model_name": "LayoutModel",
          "state": {
            "_model_module": "@jupyter-widgets/base",
            "_model_module_version": "1.2.0",
            "_model_name": "LayoutModel",
            "_view_count": null,
            "_view_module": "@jupyter-widgets/base",
            "_view_module_version": "1.2.0",
            "_view_name": "LayoutView",
            "align_content": null,
            "align_items": null,
            "align_self": null,
            "border": null,
            "bottom": null,
            "display": null,
            "flex": null,
            "flex_flow": null,
            "grid_area": null,
            "grid_auto_columns": null,
            "grid_auto_flow": null,
            "grid_auto_rows": null,
            "grid_column": null,
            "grid_gap": null,
            "grid_row": null,
            "grid_template_areas": null,
            "grid_template_columns": null,
            "grid_template_rows": null,
            "height": null,
            "justify_content": null,
            "justify_items": null,
            "left": null,
            "margin": null,
            "max_height": null,
            "max_width": null,
            "min_height": null,
            "min_width": null,
            "object_fit": null,
            "object_position": null,
            "order": null,
            "overflow": null,
            "overflow_x": null,
            "overflow_y": null,
            "padding": null,
            "right": null,
            "top": null,
            "visibility": null,
            "width": null
          }
        },
        "b02acbf1719c4c94b0026935becb292f": {
          "model_module": "@jupyter-widgets/controls",
          "model_module_version": "1.5.0",
          "model_name": "DescriptionStyleModel",
          "state": {
            "_model_module": "@jupyter-widgets/controls",
            "_model_module_version": "1.5.0",
            "_model_name": "DescriptionStyleModel",
            "_view_count": null,
            "_view_module": "@jupyter-widgets/base",
            "_view_module_version": "1.2.0",
            "_view_name": "StyleView",
            "description_width": ""
          }
        },
        "b7d87e62572b4302b42d05fbfd039c76": {
          "model_module": "@jupyter-widgets/controls",
          "model_module_version": "1.5.0",
          "model_name": "ProgressStyleModel",
          "state": {
            "_model_module": "@jupyter-widgets/controls",
            "_model_module_version": "1.5.0",
            "_model_name": "ProgressStyleModel",
            "_view_count": null,
            "_view_module": "@jupyter-widgets/base",
            "_view_module_version": "1.2.0",
            "_view_name": "StyleView",
            "bar_color": null,
            "description_width": "initial"
          }
        },
        "bfb3c11cfb8a4bff9b7fab7e2fc7a8e6": {
          "model_module": "@jupyter-widgets/controls",
          "model_module_version": "1.5.0",
          "model_name": "HTMLModel",
          "state": {
            "_dom_classes": [],
            "_model_module": "@jupyter-widgets/controls",
            "_model_module_version": "1.5.0",
            "_model_name": "HTMLModel",
            "_view_count": null,
            "_view_module": "@jupyter-widgets/controls",
            "_view_module_version": "1.5.0",
            "_view_name": "HTMLView",
            "description": "",
            "description_tooltip": null,
            "layout": "IPY_MODEL_ef417701511b496fa52a9b3595872402",
            "placeholder": "​",
            "style": "IPY_MODEL_b02acbf1719c4c94b0026935becb292f",
            "value": " 170500096/? [00:20&lt;00:00, 50443788.15it/s]"
          }
        },
        "cb2944a63e914b86a35bc47f1ff9f4d5": {
          "model_module": "@jupyter-widgets/controls",
          "model_module_version": "1.5.0",
          "model_name": "FloatProgressModel",
          "state": {
            "_dom_classes": [],
            "_model_module": "@jupyter-widgets/controls",
            "_model_module_version": "1.5.0",
            "_model_name": "FloatProgressModel",
            "_view_count": null,
            "_view_module": "@jupyter-widgets/controls",
            "_view_module_version": "1.5.0",
            "_view_name": "ProgressView",
            "bar_style": "info",
            "description": "Epoch 18:  38%",
            "description_tooltip": null,
            "layout": "IPY_MODEL_d99a8cd7c5694a95aba1880b00d5f111",
            "max": 1406,
            "min": 0,
            "orientation": "horizontal",
            "style": "IPY_MODEL_b7d87e62572b4302b42d05fbfd039c76",
            "value": 540
          }
        },
        "cd22258e7f82495b84af60105b6ec1e7": {
          "model_module": "@jupyter-widgets/controls",
          "model_module_version": "1.5.0",
          "model_name": "FloatProgressModel",
          "state": {
            "_dom_classes": [],
            "_model_module": "@jupyter-widgets/controls",
            "_model_module_version": "1.5.0",
            "_model_name": "FloatProgressModel",
            "_view_count": null,
            "_view_module": "@jupyter-widgets/controls",
            "_view_module_version": "1.5.0",
            "_view_name": "ProgressView",
            "bar_style": "info",
            "description": "",
            "description_tooltip": null,
            "layout": "IPY_MODEL_a9afd1eef79143ec966809ff046c7d8d",
            "max": 1,
            "min": 0,
            "orientation": "horizontal",
            "style": "IPY_MODEL_a33883de0701451dbb5df3eb050b4829",
            "value": 1
          }
        },
        "d73acc5f688e403599cc59deef6641fa": {
          "model_module": "@jupyter-widgets/base",
          "model_module_version": "1.2.0",
          "model_name": "LayoutModel",
          "state": {
            "_model_module": "@jupyter-widgets/base",
            "_model_module_version": "1.2.0",
            "_model_name": "LayoutModel",
            "_view_count": null,
            "_view_module": "@jupyter-widgets/base",
            "_view_module_version": "1.2.0",
            "_view_name": "LayoutView",
            "align_content": null,
            "align_items": null,
            "align_self": null,
            "border": null,
            "bottom": null,
            "display": null,
            "flex": null,
            "flex_flow": null,
            "grid_area": null,
            "grid_auto_columns": null,
            "grid_auto_flow": null,
            "grid_auto_rows": null,
            "grid_column": null,
            "grid_gap": null,
            "grid_row": null,
            "grid_template_areas": null,
            "grid_template_columns": null,
            "grid_template_rows": null,
            "height": null,
            "justify_content": null,
            "justify_items": null,
            "left": null,
            "margin": null,
            "max_height": null,
            "max_width": null,
            "min_height": null,
            "min_width": null,
            "object_fit": null,
            "object_position": null,
            "order": null,
            "overflow": null,
            "overflow_x": null,
            "overflow_y": null,
            "padding": null,
            "right": null,
            "top": null,
            "visibility": null,
            "width": null
          }
        },
        "d99a8cd7c5694a95aba1880b00d5f111": {
          "model_module": "@jupyter-widgets/base",
          "model_module_version": "1.2.0",
          "model_name": "LayoutModel",
          "state": {
            "_model_module": "@jupyter-widgets/base",
            "_model_module_version": "1.2.0",
            "_model_name": "LayoutModel",
            "_view_count": null,
            "_view_module": "@jupyter-widgets/base",
            "_view_module_version": "1.2.0",
            "_view_name": "LayoutView",
            "align_content": null,
            "align_items": null,
            "align_self": null,
            "border": null,
            "bottom": null,
            "display": null,
            "flex": "2",
            "flex_flow": null,
            "grid_area": null,
            "grid_auto_columns": null,
            "grid_auto_flow": null,
            "grid_auto_rows": null,
            "grid_column": null,
            "grid_gap": null,
            "grid_row": null,
            "grid_template_areas": null,
            "grid_template_columns": null,
            "grid_template_rows": null,
            "height": null,
            "justify_content": null,
            "justify_items": null,
            "left": null,
            "margin": null,
            "max_height": null,
            "max_width": null,
            "min_height": null,
            "min_width": null,
            "object_fit": null,
            "object_position": null,
            "order": null,
            "overflow": null,
            "overflow_x": null,
            "overflow_y": null,
            "padding": null,
            "right": null,
            "top": null,
            "visibility": null,
            "width": null
          }
        },
        "ef417701511b496fa52a9b3595872402": {
          "model_module": "@jupyter-widgets/base",
          "model_module_version": "1.2.0",
          "model_name": "LayoutModel",
          "state": {
            "_model_module": "@jupyter-widgets/base",
            "_model_module_version": "1.2.0",
            "_model_name": "LayoutModel",
            "_view_count": null,
            "_view_module": "@jupyter-widgets/base",
            "_view_module_version": "1.2.0",
            "_view_name": "LayoutView",
            "align_content": null,
            "align_items": null,
            "align_self": null,
            "border": null,
            "bottom": null,
            "display": null,
            "flex": null,
            "flex_flow": null,
            "grid_area": null,
            "grid_auto_columns": null,
            "grid_auto_flow": null,
            "grid_auto_rows": null,
            "grid_column": null,
            "grid_gap": null,
            "grid_row": null,
            "grid_template_areas": null,
            "grid_template_columns": null,
            "grid_template_rows": null,
            "height": null,
            "justify_content": null,
            "justify_items": null,
            "left": null,
            "margin": null,
            "max_height": null,
            "max_width": null,
            "min_height": null,
            "min_width": null,
            "object_fit": null,
            "object_position": null,
            "order": null,
            "overflow": null,
            "overflow_x": null,
            "overflow_y": null,
            "padding": null,
            "right": null,
            "top": null,
            "visibility": null,
            "width": null
          }
        },
        "f439eb4b51b84ee785cb6e9b222a4f46": {
          "model_module": "@jupyter-widgets/controls",
          "model_module_version": "1.5.0",
          "model_name": "HBoxModel",
          "state": {
            "_dom_classes": [],
            "_model_module": "@jupyter-widgets/controls",
            "_model_module_version": "1.5.0",
            "_model_name": "HBoxModel",
            "_view_count": null,
            "_view_module": "@jupyter-widgets/controls",
            "_view_module_version": "1.5.0",
            "_view_name": "HBoxView",
            "box_style": "",
            "children": [
              "IPY_MODEL_cd22258e7f82495b84af60105b6ec1e7",
              "IPY_MODEL_bfb3c11cfb8a4bff9b7fab7e2fc7a8e6"
            ],
            "layout": "IPY_MODEL_77e450b233cc41c3a0d7905f9747cec4"
          }
        }
      }
    }
  },
  "nbformat": 4,
  "nbformat_minor": 0
}
